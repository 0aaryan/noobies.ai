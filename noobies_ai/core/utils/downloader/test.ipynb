{
 "cells": [
  {
   "cell_type": "code",
   "execution_count": 1,
   "metadata": {},
   "outputs": [
    {
     "data": {
      "text/plain": [
       "'YouTube video downloaded successfully'"
      ]
     },
     "execution_count": 1,
     "metadata": {},
     "output_type": "execute_result"
    }
   ],
   "source": [
    "from video_downloader import YouTubeDownloader\n",
    "\n",
    "youtube_downloader = YouTubeDownloader()\n",
    "youtube_downloader.download_video(\"https://youtu.be/7tZoIDgpUH4?si=Z5NSTnqfLjizuQ6-\",\"test.mp4\",resolution=\"720p\")"
   ]
  },
  {
   "cell_type": "code",
   "execution_count": 1,
   "metadata": {},
   "outputs": [],
   "source": [
    "from text_downloader import BlogDownloader\n"
   ]
  },
  {
   "cell_type": "code",
   "execution_count": 2,
   "metadata": {},
   "outputs": [
    {
     "name": "stdout",
     "output_type": "stream",
     "text": [
      "Parle-G Replaces Iconic Girl's Image With This Instagram Influencer's Face, Here's Why\n",
      "NDTVProfitWorld EditionहिंदीCricketMOVIESFOODLIFESTYLEHEALTHTECHGamesBig BonusSWASTHSHOPPINGLIVE TV LATEST INDIA VIDEO WORLD OPINION CITIES Education OFFBEAT Feature TRENDS SOUTHPEOPLESciencePhotosWEATHERTV ScheduleTrainsParle-G Replaces Iconic Girl's Image With This Instagram Influencer's Face, Here's WhySearchNewsOffbeatParle-G Replaces Iconic Girl's Image With This Instagram Influencer's Face, Here's WhyRead inOther Languages हिंदी में पढ़ें Parle-G Replaces Iconic Girl's Image With This Instagram Influencer's Face, Here's Why  The amusing post was in response to content creator Zervaan J Bunshah's viral video where he put forth a hilarious question to his followers. OffbeatEdited by Ritu SinghUpdated: December 27, 2023 11:39 pm ISTParle-G featured a smiling image of Mr Bunshah on the biscuit wrapper instead of the iconic girlBiscuit manufacturer Parle left internet users surprised after it shared a post featuring an influencer's face on its packet's cover instead of the iconic Parle-G girl. The amusing post was in response to content creator Zervaan J Bunshah's viral video where he put forth a hilarious question to his followers. \"If you meet the owner of Parle, do you call him Parle sir, Mr. Parle, or Parle G?\" he asked in a video. In the clip, Mr. Bunshan is seen sitting in a car with a confused look on his face while the catchy 'Ae Jee Oo Jee' track from Anil Kapoor's movie 'Ram Lakhan' plays in the background. The video, shared three days back, went viral eliciting rib-tickling responses from Instagram users. Watch the video here:View this post on InstagramA post shared by Zervaan J Bunshah (@bunshah)The video also caught the attention of Parle-G and the biscuit manufacturer joined in the fun with a witty comment. The official Parle-G account commented, \"Bunshah ji, you can call us the OG.\" Later, Parle-G also featured a smiling image of Mr Bunshah on the biscuit wrapper instead of the iconic girl. \"While you figure out what to call the owner of Parle-G, you can call us your favorite biscuit to enjoy with a cup of chai. What say @bunshah ji,'' read the caption.Here's the post:View this post on InstagramA post shared by Parle-G (@officialparleg)Elated with the gesture, Mr Bunshah responded to the post, talking about how he loved Parle-G biscuits as a child. “BAHAHAHAHAHA SEASONS GREETINGS INDEED. Parle G will always be my nourishment growing up, after any excursion, party, gathering, craving, fancy cake mein bhi ingredient rehta hai! I toh ate the biscuits as a kid thinking I'd become smarter. Usme toh kalti diya tum logon ne,” he wrote.PromotedListen to the latest songs, only on JioSaavn.comInternet users were also delighted with the heartwarming gesture and many called the content creator lucky. One user wrote, ''Wow, this is an amazing gesture.'' Another commented, ''This is hella creative no way.'' A third said, ''What an honour.'' A fourth added, ''Now we want @bunshah photo on every packet of our Parle G biscuit.''Click for more trending newsTrack Latest News Live on NDTV.com and get news updates from India  and around the world. Watch Live News:Follow Us:Parle-GZervaan J BunshahInstagram influencerTrending Maldives Asks India To Withdraw Military Personnel By March 15: Report\"Congress Abusing Industrialists\": Milind Deora After Joining Shiv SenaThe Gandhi-Deora Ties And How Milind Deora's Exit Impacts CongressViral: Deepika And Ranveer Dance With A Paparazzo At The AirportExplained: Why Milind Deora Quit Congress Just Ahead Of PollsShami's Brother Sets Cricket World On Fire With Ranji Trophy Brilliance\n",
      "    \n",
      "        \n",
      "    \n",
      "\t\t\t\t\t\t\t.\n",
      "                        Lion Cub Sits In Backseat Of A Car In Pakistan, Internet AngryMan Refusing To Swap Seats With Pregnant Woman On Airplane Praised OnlineAdvertisementAdvertisementAdvertisementAdvertisementQuick LinksWorld NewsPNR StatusEducation NewsBusiness NewsSports NewsMP Chhattisgarh NewsNDTV ProfitMilind DeoraBaba RamdevMakar SankrantiIND vs AFG LiveAdvertisementAdvertisement................................ Advertisement ................................Latest News\n",
      "                                    China Calls For Ceasefire, Palestinian Statehood As War Hits 100-Day Mark                                \n",
      "                                    Bureaucrat Says British Airways Downgraded Seat. Airline Responds                                \n",
      "                                    Israel Detains 2 Sisters Of Top Hamas Leader Killed In Lebanon This Month                                \n",
      "                                    Pics: PM Modi Feeds Cows At His Residence On Makar Sankranti                                \n",
      "                                    UK Ready To Act To \"Defend Freedom\" Against Attacks On Shipping: Minister                                About UsAdvertiseBrand AmpArchivesAppsCareersChannelsDisclaimerFeedbackInvestorsRedressalsService TermsThis website follows the DNPA Code of Ethics © COPYRIGHT NDTV CONVERGENCE LIMITED 2024. ALL RIGHTS RESERVED.livetvarrowprintemailchatlinkedinredditWhatsAppfacebooktwittermorenotificationsearchsnapchatkoo\n",
      "\n"
     ]
    }
   ],
   "source": [
    "blog_downloader = BlogDownloader()\n",
    "text,msg = blog_downloader.download_text(\"https://www.ndtv.com/offbeat/parle-g-replaces-iconic-girls-image-with-this-instagram-influencers-face-heres-why-4753827\")\n",
    "\n",
    "\n",
    "print(text)"
   ]
  }
 ],
 "metadata": {
  "kernelspec": {
   "display_name": "env",
   "language": "python",
   "name": "python3"
  },
  "language_info": {
   "codemirror_mode": {
    "name": "ipython",
    "version": 3
   },
   "file_extension": ".py",
   "mimetype": "text/x-python",
   "name": "python",
   "nbconvert_exporter": "python",
   "pygments_lexer": "ipython3",
   "version": "3.11.6"
  }
 },
 "nbformat": 4,
 "nbformat_minor": 2
}
