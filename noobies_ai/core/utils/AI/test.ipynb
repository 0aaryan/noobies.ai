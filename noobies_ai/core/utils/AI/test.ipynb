{
 "cells": [
  {
   "cell_type": "code",
   "execution_count": 2,
   "metadata": {},
   "outputs": [],
   "source": [
    "from langchain.chains import LLMChain\n",
    "from langchain.prompts import PromptTemplate\n",
    "from langchain_community.llms.clarifai import Clarifai\n",
    "import os\n",
    "\n",
    "\n",
    "class TextAI:\n",
    "    def __init__(\n",
    "        self,\n",
    "        model_url=\"https://clarifai.com/openai/chat-completion/models/GPT-4\",\n",
    "        api_key=\"CLARIFAI_PAT\",\n",
    "    ):\n",
    "        self.model_url = model_url\n",
    "        self.api_key = os.environ.get(api_key)\n",
    "        self.llm = Clarifai(model_url=self.model_url, pat=self.api_key)\n",
    "\n",
    "    def predict(self, prompt_template, **kwargs):\n",
    "        prompt = PromptTemplate(\n",
    "            template=prompt_template[\"template\"],\n",
    "            input_variables=prompt_template[\"input_variables\"],\n",
    "        )\n",
    "        input_variables = prompt_template[\"input_variables\"]\n",
    "        inputs = {}\n",
    "        for variable in input_variables:\n",
    "            inputs[variable] = kwargs[variable]\n",
    "        llm_chain = prompt | self.llm\n",
    "        return llm_chain.invoke(**inputs)"
   ]
  },
  {
   "cell_type": "code",
   "execution_count": 7,
   "metadata": {},
   "outputs": [
    {
     "ename": "ModuleNotFoundError",
     "evalue": "No module named 'prompt.text_prompt'",
     "output_type": "error",
     "traceback": [
      "\u001b[0;31m---------------------------------------------------------------------------\u001b[0m",
      "\u001b[0;31mModuleNotFoundError\u001b[0m                       Traceback (most recent call last)",
      "Cell \u001b[0;32mIn[7], line 1\u001b[0m\n\u001b[0;32m----> 1\u001b[0m \u001b[38;5;28;01mfrom\u001b[39;00m \u001b[38;5;21;01mprompt\u001b[39;00m\u001b[38;5;21;01m.\u001b[39;00m\u001b[38;5;21;01mtext_prompt\u001b[39;00m \u001b[38;5;28;01mimport\u001b[39;00m \u001b[38;5;241m*\u001b[39m\n",
      "\u001b[0;31mModuleNotFoundError\u001b[0m: No module named 'prompt.text_prompt'"
     ]
    }
   ],
   "source": [
    "from prompt.text_prompt import *\n"
   ]
  }
 ],
 "metadata": {
  "kernelspec": {
   "display_name": "env",
   "language": "python",
   "name": "python3"
  },
  "language_info": {
   "codemirror_mode": {
    "name": "ipython",
    "version": 3
   },
   "file_extension": ".py",
   "mimetype": "text/x-python",
   "name": "python",
   "nbconvert_exporter": "python",
   "pygments_lexer": "ipython3",
   "version": "3.11.6"
  }
 },
 "nbformat": 4,
 "nbformat_minor": 2
}
