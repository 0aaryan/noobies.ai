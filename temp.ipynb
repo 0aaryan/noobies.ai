{
 "cells": [
  {
   "cell_type": "code",
   "execution_count": 12,
   "metadata": {},
   "outputs": [],
   "source": [
    "from noobies_ai.core.utils.AI.imageAI import ImageAI\n",
    "\n",
    "prompt = \"realistic cyborg, neon tatoos on face , zoomed out , pink foggy background , blue ,cyberpunk editing videos , multiple monitors\"\n",
    "path = \"./bg.png\"\n",
    "image_ai = ImageAI()\n",
    "image_ai.generate(\n",
    "    prompt=prompt,\n",
    "    output_file=path,\n",
    ")"
   ]
  }
 ],
 "metadata": {
  "kernelspec": {
   "display_name": "env",
   "language": "python",
   "name": "python3"
  },
  "language_info": {
   "codemirror_mode": {
    "name": "ipython",
    "version": 3
   },
   "file_extension": ".py",
   "mimetype": "text/x-python",
   "name": "python",
   "nbconvert_exporter": "python",
   "pygments_lexer": "ipython3",
   "version": "3.11.6"
  }
 },
 "nbformat": 4,
 "nbformat_minor": 2
}
